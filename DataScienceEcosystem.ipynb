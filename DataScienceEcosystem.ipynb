{
 "cells": [
  {
   "cell_type": "markdown",
   "id": "a5c2d98b-096b-491f-9f42-e45c255918c5",
   "metadata": {},
   "source": [
    "# Data Science Tools and Ecosystem \n"
   ]
  },
  {
   "cell_type": "markdown",
   "id": "fcf457a5-e2c4-4cb4-b26a-d33a85bb6c11",
   "metadata": {},
   "source": [
    "# Data Science Tools and Ecosystem\n",
    "In this notebook, Data Science Tools and Ecosytem is summarized."
   ]
  },
  {
   "cell_type": "markdown",
   "id": "0a0691dd-a065-49d4-8994-760c0b79bfc7",
   "metadata": {},
   "source": [
    "**Objectives**\n",
    "- Commonly used languages for Data Science inlcudes Python, SQL, Scala, JAVA etc.\n",
    "- Data libraries includes Numpy, Tesnsorflow, Pytorch etc.\n",
    "- Ananconda is free open source distributor for Python and R.\n",
    "- Popular cloud based enviornments are Jupyter Lite and Google Colaboratory. "
   ]
  },
  {
   "cell_type": "markdown",
   "id": "9649aa85-efd4-4112-8b08-fa7f4828fee0",
   "metadata": {},
   "source": [
    "## Some of the popular languages that Data Scientiest use are: \n",
    "1. Python\n",
    "2. SQL\n",
    "3. R. "
   ]
  },
  {
   "cell_type": "markdown",
   "id": "6f725790-b597-49e2-863f-e586e58032fe",
   "metadata": {},
   "source": [
    "### Some of the commonly used libraries used by Data Scientist include:\n",
    "1. Pandas\n",
    "2. Numpy\n",
    "3. Pytorch"
   ]
  },
  {
   "cell_type": "markdown",
   "id": "026f5e8b-af7e-41e0-8fcf-9a8b309a4340",
   "metadata": {},
   "source": [
    "## Table listing open source development tools \n",
    "|Data Sciene Tools|\n",
    "|-----------------|\n",
    "|Git|\n",
    "|Tensor Flow|\n",
    "|Jupyter Notebook|"
   ]
  },
  {
   "cell_type": "markdown",
   "id": "4f46310f-aa1e-4908-a58f-bf62437a40cb",
   "metadata": {},
   "source": [
    "### Below are few examples of evaluating arthematic expression in Python \n",
    "|Arthematic Expressions|\n",
    "|----------------------|\n",
    "|z = x + y|\n",
    "|z = x - y|\n",
    "|z = x * y|\n",
    "|z = x / y|\n"
   ]
  },
  {
   "cell_type": "code",
   "execution_count": 1,
   "id": "8a8def90-44ca-48ec-b278-c66db3a827a0",
   "metadata": {},
   "outputs": [
    {
     "name": "stdout",
     "output_type": "stream",
     "text": [
      "17\n"
     ]
    }
   ],
   "source": [
    "#### This is a simple arithmetic expression to multiply \n",
    "a = 3 \n",
    "b = 4 \n",
    "c = 5\n",
    "print (a*b+c)"
   ]
  },
  {
   "cell_type": "code",
   "execution_count": 2,
   "id": "d8655ca5-b030-4692-9757-d1a6ddff6e4f",
   "metadata": {},
   "outputs": [
    {
     "name": "stdout",
     "output_type": "stream",
     "text": [
      "3.3333333333333335\n"
     ]
    }
   ],
   "source": [
    "### This will conver 200 minutes to hours by dividing by 60\n",
    "a = 200 \n",
    "b = 60 \n",
    "print (200/60)\n"
   ]
  },
  {
   "cell_type": "markdown",
   "id": "b9450a3d-09f8-4ecf-9acd-417e71ecde2a",
   "metadata": {},
   "source": [
    "## Author\n",
    "Masood Khalid "
   ]
  },
  {
   "cell_type": "code",
   "execution_count": null,
   "id": "3c792663-4e0f-4e60-bb9a-cf6dff7c3d6b",
   "metadata": {},
   "outputs": [],
   "source": []
  }
 ],
 "metadata": {
  "kernelspec": {
   "display_name": "Python 3 (ipykernel)",
   "language": "python",
   "name": "python3"
  },
  "language_info": {
   "codemirror_mode": {
    "name": "ipython",
    "version": 3
   },
   "file_extension": ".py",
   "mimetype": "text/x-python",
   "name": "python",
   "nbconvert_exporter": "python",
   "pygments_lexer": "ipython3",
   "version": "3.12.5"
  }
 },
 "nbformat": 4,
 "nbformat_minor": 5
}
